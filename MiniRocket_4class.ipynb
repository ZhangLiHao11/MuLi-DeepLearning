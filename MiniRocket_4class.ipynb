{
 "cells": [
  {
   "cell_type": "code",
   "execution_count": 2,
   "id": "6b76c033",
   "metadata": {},
   "outputs": [
    {
     "name": "stdout",
     "output_type": "stream",
     "text": [
      "os             : Windows-10-10.0.16299-SP0\n",
      "python         : 3.8.8\n",
      "tsai           : 0.3.1\n",
      "fastai         : 2.6.3\n",
      "fastcore       : 1.4.3\n",
      "sktime         : 0.11.4\n",
      "sklearn        : 1.1.0\n",
      "torch          : 1.10.0+cpu\n",
      "device         : cpu\n",
      "cpu cores      : 8\n",
      "RAM            : 15.82 GB\n",
      "GPU memory     : N/A\n"
     ]
    }
   ],
   "source": [
    "from tsai.basics import *\n",
    "import sktime\n",
    "import sklearn\n",
    "my_setup(sktime, sklearn)"
   ]
  },
  {
   "cell_type": "code",
   "execution_count": 3,
   "id": "4b0fc2f6",
   "metadata": {},
   "outputs": [],
   "source": [
    "from tsai.models.MINIROCKET import *\n",
    "from sklearn.metrics import mean_squared_error, make_scorer"
   ]
  },
  {
   "cell_type": "code",
   "execution_count": 15,
   "id": "7528f4ec",
   "metadata": {},
   "outputs": [
    {
     "data": {
      "text/plain": [
       "(30,)"
      ]
     },
     "execution_count": 15,
     "metadata": {},
     "output_type": "execute_result"
    }
   ],
   "source": [
    "# Univariate classification with sklearn-type API\n",
    "dsid = 'OliveOil'\n",
    "X_train, y_train, X_valid, y_valid = get_UCR_data(dsid)   # Download the UCR dataset"
   ]
  },
  {
   "cell_type": "code",
   "execution_count": 8,
   "id": "99129cdf",
   "metadata": {},
   "outputs": [
    {
     "name": "stdout",
     "output_type": "stream",
     "text": [
      "valid accuracy    : 93.333% time: 0:00:00.672972\n"
     ]
    }
   ],
   "source": [
    "# Computes MiniRocket features using the original (non-PyTorch) MiniRocket code.\n",
    "# It then sends them to a sklearn's RidgeClassifier (linear classifier).\n",
    "model = MiniRocketClassifier()\n",
    "timer.start(False)\n",
    "model.fit(X_train, y_train)\n",
    "t = timer.stop()\n",
    "print(f'valid accuracy    : {model.score(X_valid, y_valid):.3%} time: {t}')"
   ]
  },
  {
   "cell_type": "code",
   "execution_count": 9,
   "id": "bf65b28b",
   "metadata": {},
   "outputs": [
    {
     "name": "stdout",
     "output_type": "stream",
     "text": [
      "valid accuracy    : 66.018% time: 0:00:05.668869\n"
     ]
    }
   ],
   "source": [
    "# Multivariate classification with sklearn-type API\n",
    "dsid = 'LSST'\n",
    "X_train, y_train, X_valid, y_valid = get_UCR_data(dsid)\n",
    "model = MiniRocketClassifier()\n",
    "timer.start(False)\n",
    "model.fit(X_train, y_train)\n",
    "t = timer.stop()\n",
    "print(f'valid accuracy    : {model.score(X_valid, y_valid):.3%} time: {t}')"
   ]
  },
  {
   "cell_type": "code",
   "execution_count": 13,
   "id": "3443349c",
   "metadata": {},
   "outputs": [
    {
     "name": "stdout",
     "output_type": "stream",
     "text": [
      "valid accuracy    : 67.172% time: 0:00:00.730635\n"
     ]
    }
   ],
   "source": [
    "dsid = 'InsectWingbeatSound'\n",
    "X_train, y_train, X_valid, y_valid = get_UCR_data(dsid)\n",
    "model = MiniRocketClassifier()\n",
    "timer.start(False)\n",
    "model.fit(X_train, y_train)\n",
    "t = timer.stop()\n",
    "print(f'valid accuracy    : {model.score(X_valid, y_valid):.3%} time: {t}')"
   ]
  },
  {
   "cell_type": "code",
   "execution_count": 15,
   "id": "581f190f",
   "metadata": {},
   "outputs": [
    {
     "name": "stdout",
     "output_type": "stream",
     "text": [
      "valid accuracy    : 67.172%\n"
     ]
    }
   ],
   "source": [
    "model.save(f'MiniRocket_{dsid}')\n",
    "del model\n",
    "model = load_minirocket(f'MiniRocket_{dsid}')\n",
    "print(f'valid accuracy    : {model.score(X_valid, y_valid):.3%}')"
   ]
  },
  {
   "cell_type": "code",
   "execution_count": 19,
   "id": "250defa7",
   "metadata": {},
   "outputs": [
    {
     "data": {
      "text/plain": [
       "(memmap([[[  0.,   0.,   0., ...,   0.,   0.,  12.]],\n",
       " \n",
       "         [[  0.,   0.,   0., ...,   9.,   0.,   0.]],\n",
       " \n",
       "         [[  0.,   0.,   0., ...,   0.,   0.,   0.]],\n",
       " \n",
       "         ...,\n",
       " \n",
       "         [[  0.,   0.,   0., ...,  65.,  39.,  36.]],\n",
       " \n",
       "         [[  0.,   0.,   0., ..., 128., 114.,  90.]],\n",
       " \n",
       "         [[  0.,   0.,   0., ...,   4.,   7.,   5.]]], dtype=float32),\n",
       " (140, 1, 84))"
      ]
     },
     "execution_count": 19,
     "metadata": {},
     "output_type": "execute_result"
    }
   ],
   "source": [
    "dsid = 'Covid3Month'\n",
    "X_train, y_train, X_valid, y_valid = get_Monash_regression_data(dsid)\n",
    "X_train,X_train.shape"
   ]
  },
  {
   "cell_type": "code",
   "execution_count": 20,
   "id": "3ad2e436",
   "metadata": {},
   "outputs": [
    {
     "name": "stdout",
     "output_type": "stream",
     "text": [
      "valid rmse        : 0.04164 time: 0:00:00.395851\n"
     ]
    }
   ],
   "source": [
    "rmse_scorer = make_scorer(mean_squared_error, greater_is_better=False)\n",
    "model = MiniRocketRegressor(scoring=rmse_scorer)\n",
    "timer.start(False)\n",
    "model.fit(X_train, y_train)\n",
    "t = timer.stop()\n",
    "y_pred = model.predict(X_valid)\n",
    "rmse = mean_squared_error(y_valid, y_pred, squared=False)\n",
    "print(f'valid rmse        : {rmse:.5f} time: {t}')"
   ]
  },
  {
   "cell_type": "code",
   "execution_count": 16,
   "id": "3cafd841",
   "metadata": {},
   "outputs": [
    {
     "name": "stdout",
     "output_type": "stream",
     "text": [
      "valid accuracy    : 100.000% time: 0:01:33.606429\n"
     ]
    }
   ],
   "source": [
    "import pandas as pd \n",
    "import numpy as np\n",
    "from sklearn.model_selection import train_test_split\n",
    "from tsai.models.MINIROCKET import *\n",
    "from tsai.basics import *\n",
    "import sktime\n",
    "import sklearn\n",
    "Data = pd.read_csv('data/C_3471/C_3471tiao.csv')\n",
    "train = Data.iloc[:,2:]\n",
    "target = Data.iloc[:,1]\n",
    "X_train,X_test, y_train, y_test = train_test_split(train,target,test_size = 0.2) #划分训练集和测试集（8:2）\n",
    "X_train = np.array(X_train)\n",
    "X_train = X_train.reshape(2776,1,4096)\n",
    "X_test = np.array(X_test)\n",
    "X_test = X_test.reshape(695,1,4096)\n",
    "model = MiniRocketClassifier()\n",
    "timer.start(False)\n",
    "model.fit(X_train, y_train)\n",
    "t = timer.stop()\n",
    "print(f'valid accuracy    : {model.score(X_test, y_test):.3%} time: {t}')"
   ]
  },
  {
   "cell_type": "code",
   "execution_count": null,
   "id": "4f3b6adb",
   "metadata": {},
   "outputs": [],
   "source": []
  }
 ],
 "metadata": {
  "kernelspec": {
   "display_name": "Python 3",
   "language": "python",
   "name": "python3"
  },
  "language_info": {
   "codemirror_mode": {
    "name": "ipython",
    "version": 3
   },
   "file_extension": ".py",
   "mimetype": "text/x-python",
   "name": "python",
   "nbconvert_exporter": "python",
   "pygments_lexer": "ipython3",
   "version": "3.8.8"
  }
 },
 "nbformat": 4,
 "nbformat_minor": 5
}
