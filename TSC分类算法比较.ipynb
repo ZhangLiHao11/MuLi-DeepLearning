{
 "cells": [
  {
   "cell_type": "code",
   "execution_count": 3,
   "id": "10bca06b",
   "metadata": {},
   "outputs": [
    {
     "name": "stdout",
     "output_type": "stream",
     "text": [
      "os             : Windows-10-10.0.16299-SP0\n",
      "python         : 3.8.8\n",
      "tsai           : 0.3.1\n",
      "fastai         : 2.6.3\n",
      "fastcore       : 1.4.3\n",
      "sktime         : 0.11.4\n",
      "sklearn        : 1.1.0\n",
      "torch          : 1.10.0+cpu\n",
      "device         : cpu\n",
      "cpu cores      : 8\n",
      "RAM            : 15.82 GB\n",
      "GPU memory     : N/A\n"
     ]
    }
   ],
   "source": [
    "from tsai.basics import *\n",
    "import sktime\n",
    "import sklearn\n",
    "import numpy as np\n",
    "my_setup(sktime, sklearn)"
   ]
  },
  {
   "cell_type": "code",
   "execution_count": 4,
   "id": "339d509e",
   "metadata": {},
   "outputs": [],
   "source": [
    "from sklearn.metrics import mean_squared_error, make_scorer\n",
    "data = 'ECG200'\n",
    "X_train, y_train, X_vaild, y_vaild = get_UCR_data(data)"
   ]
  },
  {
   "cell_type": "code",
   "execution_count": 111,
   "id": "d49aab39",
   "metadata": {},
   "outputs": [
    {
     "data": {
      "text/plain": [
       "[<matplotlib.lines.Line2D at 0x17e47bea5b0>]"
      ]
     },
     "execution_count": 111,
     "metadata": {},
     "output_type": "execute_result"
    },
    {
     "data": {
      "image/png": "[encoded data removed]",
      "text/plain": [
       "<Figure size 432x288 with 1 Axes>"
      ]
     },
     "metadata": {
      "needs_background": "light"
     },
     "output_type": "display_data"
    }
   ],
   "source": [
    "import matplotlib.pyplot as plt\n",
    "plt.plot(X_train[99,0])"
   ]
  },
  {
   "cell_type": "markdown",
   "id": "f2c295ff",
   "metadata": {},
   "source": [
    "TSF,时间序列森林"
   ]
  },
  {
   "cell_type": "code",
   "execution_count": 7,
   "id": "c8c7f0ba",
   "metadata": {},
   "outputs": [
    {
     "name": "stdout",
     "output_type": "stream",
     "text": [
      "accuracy:0.88 time:0:00:00.528915\n"
     ]
    }
   ],
   "source": [
    "from sktime.classification.interval_based import TimeSeriesForestClassifier\n",
    "from sklearn.metrics import accuracy_score\n",
    "cla_TSF = TimeSeriesForestClassifier()\n",
    "t = timer.start(False)\n",
    "cla_TSF.fit(X_train,y_train)\n",
    "t = timer.stop()\n",
    "y_pred = cla_TSF.predict(X_vaild)\n",
    "accuracy = accuracy_score(y_vaild, y_pred)\n",
    "print(f'accuracy:{accuracy} time:{t}')"
   ]
  },
  {
   "cell_type": "markdown",
   "id": "4b10212a",
   "metadata": {},
   "source": [
    "RISE"
   ]
  },
  {
   "cell_type": "code",
   "execution_count": 113,
   "id": "27f0d3be",
   "metadata": {},
   "outputs": [
    {
     "name": "stdout",
     "output_type": "stream",
     "text": [
      "accuracy:0.88 time:0:00:08.265405\n"
     ]
    }
   ],
   "source": [
    "from sktime.classification.interval_based import RandomIntervalSpectralEnsemble\n",
    "cla_RISE = RandomIntervalSpectralEnsemble()\n",
    "t = timer.start(False)\n",
    "cla_RISE.fit(X_train,y_train)\n",
    "t = timer.stop()\n",
    "y_pred = cla_RISE.predict(X_vaild)\n",
    "accuracy = accuracy_score(y_vaild, y_pred)\n",
    "print(f'accuracy:{accuracy} time:{t}')"
   ]
  },
  {
   "cell_type": "markdown",
   "id": "91a90642",
   "metadata": {},
   "source": [
    "BOSSEnsemble"
   ]
  },
  {
   "cell_type": "code",
   "execution_count": 114,
   "id": "eea79375",
   "metadata": {},
   "outputs": [
    {
     "name": "stdout",
     "output_type": "stream",
     "text": [
      "accuracy:0.88 time:0:00:22.099747\n"
     ]
    }
   ],
   "source": [
    "from sktime.classification.dictionary_based import BOSSEnsemble\n",
    "cla_bossEn = BOSSEnsemble()\n",
    "t = timer.start(False)\n",
    "cla_bossEn.fit(X_train,y_train)\n",
    "t = timer.stop()\n",
    "y_pred = cla_bossEn.predict(X_vaild)\n",
    "accuracy = accuracy_score(y_vaild, y_pred)\n",
    "print(f'accuracy:{accuracy} time:{t}')"
   ]
  },
  {
   "cell_type": "markdown",
   "id": "fbd6de80",
   "metadata": {},
   "source": [
    "cBOSS"
   ]
  },
  {
   "cell_type": "code",
   "execution_count": 115,
   "id": "3b3e1854",
   "metadata": {},
   "outputs": [
    {
     "name": "stdout",
     "output_type": "stream",
     "text": [
      "accuracy:0.85 time:0:00:16.449514\n"
     ]
    }
   ],
   "source": [
    "from sktime.classification.dictionary_based import ContractableBOSS\n",
    "cla_cboss = ContractableBOSS()\n",
    "t = timer.start(False)\n",
    "cla_cboss.fit(X_train,y_train)\n",
    "t = timer.stop()\n",
    "y_pred = cla_cboss.predict(X_vaild)\n",
    "accuracy = accuracy_score(y_vaild, y_pred)\n",
    "print(f'accuracy:{accuracy} time:{t}')"
   ]
  },
  {
   "cell_type": "markdown",
   "id": "5de53e58",
   "metadata": {},
   "source": [
    "Shapelet Transform ,ST"
   ]
  },
  {
   "cell_type": "code",
   "execution_count": 116,
   "id": "3005916c",
   "metadata": {},
   "outputs": [
    {
     "name": "stdout",
     "output_type": "stream",
     "text": [
      "accuracy:0.86 time:0:00:13.729975\n"
     ]
    }
   ],
   "source": [
    "from sktime.classification.shapelet_based import ShapeletTransformClassifier\n",
    "\n",
    "X_train = X_train.astype(np.float64)#要求输入格式为float64\n",
    "cla_ST = ShapeletTransformClassifier()\n",
    "t = timer.start(False)\n",
    "cla_ST.fit(X_train,y_train)\n",
    "t = timer.stop()\n",
    "y_pred = cla_ST.predict(X_vaild)\n",
    "accuracy = accuracy_score(y_vaild, y_pred)\n",
    "print(f'accuracy:{accuracy} time:{t}')"
   ]
  },
  {
   "cell_type": "markdown",
   "id": "97072b55",
   "metadata": {},
   "source": [
    "Learned shapelets,LS"
   ]
  },
  {
   "cell_type": "code",
   "execution_count": 117,
   "id": "fdd87f86",
   "metadata": {},
   "outputs": [],
   "source": [
    "X_train = X_train.reshape(100,96)\n",
    "X_vaild = X_vaild.reshape(100,96)"
   ]
  },
  {
   "cell_type": "code",
   "execution_count": 118,
   "id": "2c1e210f",
   "metadata": {},
   "outputs": [
    {
     "name": "stdout",
     "output_type": "stream",
     "text": [
      "accuracy:0.7 time:0:00:08.208589\n"
     ]
    }
   ],
   "source": [
    "from pyts.classification import LearningShapelets\n",
    "cla_LS = LearningShapelets(random_state=42,tol=0.01)\n",
    "t = timer.start(False)\n",
    "cla_LS.fit(X_train,y_train)\n",
    "t = timer.stop()\n",
    "y_pred = cla_LS.predict(X_vaild)\n",
    "accuracy = accuracy_score(y_vaild, y_pred)\n",
    "print(f'accuracy:{accuracy} time:{t}')"
   ]
  },
  {
   "cell_type": "markdown",
   "id": "c7fa3aed",
   "metadata": {},
   "source": [
    "MiniRocket"
   ]
  },
  {
   "cell_type": "code",
   "execution_count": 8,
   "id": "3312fd58",
   "metadata": {
    "scrolled": true
   },
   "outputs": [
    {
     "name": "stdout",
     "output_type": "stream",
     "text": [
      "accuracy:0.92 time:0:00:00.298910\n"
     ]
    }
   ],
   "source": [
    "X_train = X_train.reshape(100,1,96)\n",
    "X_vaild = X_vaild.reshape(100,1,96)\n",
    "from tsai.all import *\n",
    "cla_MR = MiniRocketClassifier()\n",
    "t = timer.start(False)\n",
    "cla_MR.fit(X_train,y_train)\n",
    "t = timer.stop()\n",
    "y_pred = cla_MR.predict(X_vaild)\n",
    "accuracy = accuracy_score(y_vaild, y_pred)\n",
    "print(f'accuracy:{accuracy} time:{t}')"
   ]
  },
  {
   "cell_type": "markdown",
   "id": "8f8ab7f6",
   "metadata": {},
   "source": [
    "LSTM"
   ]
  },
  {
   "cell_type": "code",
   "execution_count": 9,
   "id": "74ca5f6f",
   "metadata": {
    "scrolled": true
   },
   "outputs": [
    {
     "data": {
      "text/html": [
       "\n",
       "<style>\n",
       "    /* Turns off some styling */\n",
       "    progress {\n",
       "        /* gets rid of default border in Firefox and Opera. */\n",
       "        border: none;\n",
       "        /* Needs to be in here for Safari polyfill so background images work as expected. */\n",
       "        background-size: auto;\n",
       "    }\n",
       "    .progress-bar-interrupted, .progress-bar-interrupted::-webkit-progress-bar {\n",
       "        background: #F44336;\n",
       "    }\n",
       "</style>\n"
      ],
      "text/plain": [
       "<IPython.core.display.HTML object>"
      ]
     },
     "metadata": {},
     "output_type": "display_data"
    },
    {
     "data": {
      "text/html": [
       "<table border=\"1\" class=\"dataframe\">\n",
       "  <thead>\n",
       "    <tr style=\"text-align: left;\">\n",
       "      <th>epoch</th>\n",
       "      <th>train_loss</th>\n",
       "      <th>valid_loss</th>\n",
       "      <th>time</th>\n",
       "    </tr>\n",
       "  </thead>\n",
       "  <tbody>\n",
       "    <tr>\n",
       "      <td>0</td>\n",
       "      <td>0.677981</td>\n",
       "      <td>0.644396</td>\n",
       "      <td>00:01</td>\n",
       "    </tr>\n",
       "    <tr>\n",
       "      <td>1</td>\n",
       "      <td>0.624564</td>\n",
       "      <td>0.637857</td>\n",
       "      <td>00:00</td>\n",
       "    </tr>\n",
       "    <tr>\n",
       "      <td>2</td>\n",
       "      <td>0.589087</td>\n",
       "      <td>0.636913</td>\n",
       "      <td>00:00</td>\n",
       "    </tr>\n",
       "    <tr>\n",
       "      <td>3</td>\n",
       "      <td>0.568415</td>\n",
       "      <td>0.602035</td>\n",
       "      <td>00:00</td>\n",
       "    </tr>\n",
       "    <tr>\n",
       "      <td>4</td>\n",
       "      <td>0.554881</td>\n",
       "      <td>0.602642</td>\n",
       "      <td>00:00</td>\n",
       "    </tr>\n",
       "    <tr>\n",
       "      <td>5</td>\n",
       "      <td>0.536544</td>\n",
       "      <td>0.669361</td>\n",
       "      <td>00:00</td>\n",
       "    </tr>\n",
       "    <tr>\n",
       "      <td>6</td>\n",
       "      <td>0.522525</td>\n",
       "      <td>0.618113</td>\n",
       "      <td>00:00</td>\n",
       "    </tr>\n",
       "    <tr>\n",
       "      <td>7</td>\n",
       "      <td>0.511183</td>\n",
       "      <td>0.625060</td>\n",
       "      <td>00:00</td>\n",
       "    </tr>\n",
       "    <tr>\n",
       "      <td>8</td>\n",
       "      <td>0.501544</td>\n",
       "      <td>0.639745</td>\n",
       "      <td>00:00</td>\n",
       "    </tr>\n",
       "    <tr>\n",
       "      <td>9</td>\n",
       "      <td>0.493211</td>\n",
       "      <td>0.621597</td>\n",
       "      <td>00:00</td>\n",
       "    </tr>\n",
       "  </tbody>\n",
       "</table>"
      ],
      "text/plain": [
       "<IPython.core.display.HTML object>"
      ]
     },
     "metadata": {},
     "output_type": "display_data"
    },
    {
     "name": "stdout",
     "output_type": "stream",
     "text": [
      "accuracy:0.92 time:0:00:04.460980\n"
     ]
    }
   ],
   "source": [
    "bs = 16\n",
    "X, y, splits = get_UCR_data(data, return_split=False)\n",
    "tfms  = [None, [TSCategorize()]]\n",
    "dsets = TSDatasets(X, y, tfms=tfms, splits=splits)\n",
    "dls   = TSDataLoaders.from_dsets(dsets.train, dsets.valid, bs=bs, num_workers=0, shuffle=False)\n",
    "model = LSTM(dls.vars, dls.c)\n",
    "t = timer.start(False)\n",
    "learn = Learner(dls, model)\n",
    "learn.fit(10, 0.003)\n",
    "t = timer.stop()\n",
    "y_pred = cla_MR.predict(X_vaild)\n",
    "accuracy = accuracy_score(y_vaild, y_pred)\n",
    "print(f'accuracy:{accuracy} time:{t}')"
   ]
  },
  {
   "cell_type": "markdown",
   "id": "f7569ca9",
   "metadata": {},
   "source": [
    "FCN"
   ]
  },
  {
   "cell_type": "code",
   "execution_count": 121,
   "id": "0806b6de",
   "metadata": {
    "scrolled": true
   },
   "outputs": [
    {
     "data": {
      "text/html": [
       "\n",
       "<style>\n",
       "    /* Turns off some styling */\n",
       "    progress {\n",
       "        /* gets rid of default border in Firefox and Opera. */\n",
       "        border: none;\n",
       "        /* Needs to be in here for Safari polyfill so background images work as expected. */\n",
       "        background-size: auto;\n",
       "    }\n",
       "    .progress-bar-interrupted, .progress-bar-interrupted::-webkit-progress-bar {\n",
       "        background: #F44336;\n",
       "    }\n",
       "</style>\n"
      ],
      "text/plain": [
       "<IPython.core.display.HTML object>"
      ]
     },
     "metadata": {},
     "output_type": "display_data"
    },
    {
     "data": {
      "text/html": [
       "<table border=\"1\" class=\"dataframe\">\n",
       "  <thead>\n",
       "    <tr style=\"text-align: left;\">\n",
       "      <th>epoch</th>\n",
       "      <th>train_loss</th>\n",
       "      <th>valid_loss</th>\n",
       "      <th>time</th>\n",
       "    </tr>\n",
       "  </thead>\n",
       "  <tbody>\n",
       "    <tr>\n",
       "      <td>0</td>\n",
       "      <td>0.547296</td>\n",
       "      <td>1.772267</td>\n",
       "      <td>00:00</td>\n",
       "    </tr>\n",
       "    <tr>\n",
       "      <td>1</td>\n",
       "      <td>0.499763</td>\n",
       "      <td>0.730462</td>\n",
       "      <td>00:00</td>\n",
       "    </tr>\n",
       "    <tr>\n",
       "      <td>2</td>\n",
       "      <td>0.462387</td>\n",
       "      <td>0.664671</td>\n",
       "      <td>00:00</td>\n",
       "    </tr>\n",
       "    <tr>\n",
       "      <td>3</td>\n",
       "      <td>0.431012</td>\n",
       "      <td>0.471417</td>\n",
       "      <td>00:00</td>\n",
       "    </tr>\n",
       "    <tr>\n",
       "      <td>4</td>\n",
       "      <td>0.400731</td>\n",
       "      <td>0.383626</td>\n",
       "      <td>00:00</td>\n",
       "    </tr>\n",
       "    <tr>\n",
       "      <td>5</td>\n",
       "      <td>0.375248</td>\n",
       "      <td>0.423271</td>\n",
       "      <td>00:00</td>\n",
       "    </tr>\n",
       "    <tr>\n",
       "      <td>6</td>\n",
       "      <td>0.352649</td>\n",
       "      <td>0.407306</td>\n",
       "      <td>00:00</td>\n",
       "    </tr>\n",
       "    <tr>\n",
       "      <td>7</td>\n",
       "      <td>0.337707</td>\n",
       "      <td>0.696336</td>\n",
       "      <td>00:00</td>\n",
       "    </tr>\n",
       "    <tr>\n",
       "      <td>8</td>\n",
       "      <td>0.320413</td>\n",
       "      <td>0.359172</td>\n",
       "      <td>00:00</td>\n",
       "    </tr>\n",
       "    <tr>\n",
       "      <td>9</td>\n",
       "      <td>0.302707</td>\n",
       "      <td>0.718250</td>\n",
       "      <td>00:00</td>\n",
       "    </tr>\n",
       "  </tbody>\n",
       "</table>"
      ],
      "text/plain": [
       "<IPython.core.display.HTML object>"
      ]
     },
     "metadata": {},
     "output_type": "display_data"
    },
    {
     "name": "stdout",
     "output_type": "stream",
     "text": [
      "accuracy:0.92 time:0:00:03.209944\n"
     ]
    }
   ],
   "source": [
    "model2 = FCN(dls.vars, dls.c)\n",
    "t = timer.start(False)\n",
    "learn = Learner(dls, model2)\n",
    "learn.fit(10, 0.003)\n",
    "t = timer.stop()\n",
    "y_pred = cla_MR.predict(X_vaild)\n",
    "accuracy = accuracy_score(y_vaild, y_pred)\n",
    "print(f'accuracy:{accuracy} time:{t}')"
   ]
  },
  {
   "cell_type": "code",
   "execution_count": 13,
   "id": "6740a718",
   "metadata": {
    "scrolled": true
   },
   "outputs": [
    {
     "data": {
      "text/plain": [
       "((#100) [0,1,2,3,4,5,6,7,8,9...],\n",
       " (#100) [100,101,102,103,104,105,106,107,108,109...])"
      ]
     },
     "execution_count": 13,
     "metadata": {},
     "output_type": "execute_result"
    }
   ],
   "source": [
    "splits\n"
   ]
  },
  {
   "cell_type": "code",
   "execution_count": null,
   "id": "701f8e3e",
   "metadata": {},
   "outputs": [],
   "source": []
  }
 ],
 "metadata": {
  "kernelspec": {
   "display_name": "Python 3",
   "language": "python",
   "name": "python3"
  },
  "language_info": {
   "codemirror_mode": {
    "name": "ipython",
    "version": 3
   },
   "file_extension": ".py",
   "mimetype": "text/x-python",
   "name": "python",
   "nbconvert_exporter": "python",
   "pygments_lexer": "ipython3",
   "version": "3.8.8"
  }
 },
 "nbformat": 4,
 "nbformat_minor": 5
}
