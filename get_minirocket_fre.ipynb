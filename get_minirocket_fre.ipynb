{
 "cells": [
  {
   "cell_type": "code",
   "execution_count": 1,
   "id": "f6e202c4",
   "metadata": {},
   "outputs": [
    {
     "name": "stdout",
     "output_type": "stream",
     "text": [
      "valid accuracy    : 100.000% time: 0:01:36.064242\n"
     ]
    }
   ],
   "source": [
    "import pandas as pd \n",
    "import numpy as np\n",
    "from sklearn.model_selection import train_test_split\n",
    "from tsai.models.MINIROCKET import *\n",
    "from tsai.basics import *\n",
    "import sktime\n",
    "import sklearn\n",
    "Data = pd.read_csv('data/C_3471/C_3471tiao.csv')\n",
    "train = Data.iloc[:,2:]\n",
    "target = Data.iloc[:,1]\n",
    "X_train,X_test, y_train, y_test = train_test_split(train,target,test_size = 0.2) #划分训练集和测试集（8:2）\n",
    "X_train = np.array(X_train)\n",
    "X_train = X_train.reshape(2776,1,4096)\n",
    "X_test = np.array(X_test)\n",
    "X_test = X_test.reshape(695,1,4096)\n",
    "model = MiniRocketClassifier()\n",
    "timer.start(False)\n",
    "model.fit(X_train, y_train)\n",
    "t = timer.stop()\n",
    "print(f'valid accuracy    : {model.score(X_test, y_test):.3%} time: {t}')"
   ]
  },
  {
   "cell_type": "code",
   "execution_count": 21,
   "id": "f1947024",
   "metadata": {},
   "outputs": [],
   "source": [
    "from sktime.transformations.panel.rocket import MiniRocket\n",
    "from sktime.transformations.panel.rocket import Rocket\n",
    "rocket = Rocket()  # by default, ROCKET uses 10,000 kernels\n",
    "rocket.fit(X_train)\n",
    "X_train_transform = rocket.transform(X_train)"
   ]
  },
  {
   "cell_type": "code",
   "execution_count": 22,
   "id": "cd6fc79b",
   "metadata": {},
   "outputs": [
    {
     "data": {
      "text/plain": [
       "(2776, 20000)"
      ]
     },
     "execution_count": 22,
     "metadata": {},
     "output_type": "execute_result"
    }
   ],
   "source": [
    "X_train_transform.shape"
   ]
  },
  {
   "cell_type": "code",
   "execution_count": 25,
   "id": "c6906783",
   "metadata": {},
   "outputs": [
    {
     "name": "stdout",
     "output_type": "stream",
     "text": [
      "shape   : (2776, 9996) time: 0:01:20.479071\n"
     ]
    }
   ],
   "source": [
    "minirocket = MiniRocket()\n",
    "minirocket.fit(X_train)\n",
    "timer.start(False)\n",
    "X_train_transform2 = minirocket.transform(X_train)\n",
    "t = timer.stop()\n",
    "print(f'shape   : {X_train_transform2.shape} time: {t}')"
   ]
  },
  {
   "cell_type": "code",
   "execution_count": 28,
   "id": "ac1c89c9",
   "metadata": {},
   "outputs": [
    {
     "name": "stdout",
     "output_type": "stream",
     "text": [
      "shape   : (695, 9996) time: 0:00:20.415899\n"
     ]
    }
   ],
   "source": [
    "minirocket.fit(X_test)\n",
    "timer.start(False)\n",
    "X_test_transform2 = minirocket.transform(X_test)\n",
    "t = timer.stop()\n",
    "print(f'shape   : {X_test_transform2.shape} time: {t}')"
   ]
  },
  {
   "cell_type": "code",
   "execution_count": 30,
   "id": "2ecc5d08",
   "metadata": {},
   "outputs": [
    {
     "name": "stdout",
     "output_type": "stream",
     "text": [
      "accuracy   : 0.9827338129496402 time: 0:19:08.126416\n"
     ]
    }
   ],
   "source": [
    "from sktime.classification.interval_based import TimeSeriesForestClassifier\n",
    "from sklearn.metrics import accuracy_score\n",
    "X_train_transform2 = np.array(X_train_transform2)\n",
    "X_train_transform2 = X_train_transform2.reshape(2776,1,9996)\n",
    "X_test_transform2 = np.array(X_test_transform2)\n",
    "X_test_transform2 = X_test_transform2.reshape(695,1,9996)\n",
    "classifier = TimeSeriesForestClassifier()\n",
    "timer.start(False)\n",
    "classifier.fit(X_train_transform2, y_train)\n",
    "t = timer.stop()\n",
    "y_pred = classifier.predict(X_test_transform2)\n",
    "accuracy=accuracy_score(y_test, y_pred)\n",
    "print(f'accuracy   : {accuracy} time: {t}')"
   ]
  },
  {
   "cell_type": "markdown",
   "id": "f24517ab",
   "metadata": {},
   "source": [
    "TCN网络"
   ]
  },
  {
   "cell_type": "code",
   "execution_count": 70,
   "id": "ec6f3c67",
   "metadata": {
    "scrolled": true
   },
   "outputs": [
    {
     "data": {
      "image/png": "[encoded data removed]",
      "text/plain": [
       "<Figure size 1152x72 with 1 Axes>"
      ]
     },
     "metadata": {
      "needs_background": "light"
     },
     "output_type": "display_data"
    },
    {
     "data": {
      "text/html": [
       "\n",
       "<style>\n",
       "    /* Turns off some styling */\n",
       "    progress {\n",
       "        /* gets rid of default border in Firefox and Opera. */\n",
       "        border: none;\n",
       "        /* Needs to be in here for Safari polyfill so background images work as expected. */\n",
       "        background-size: auto;\n",
       "    }\n",
       "    .progress-bar-interrupted, .progress-bar-interrupted::-webkit-progress-bar {\n",
       "        background: #F44336;\n",
       "    }\n",
       "</style>\n"
      ],
      "text/plain": [
       "<IPython.core.display.HTML object>"
      ]
     },
     "metadata": {},
     "output_type": "display_data"
    },
    {
     "data": {
      "text/html": [
       "<table border=\"1\" class=\"dataframe\">\n",
       "  <thead>\n",
       "    <tr style=\"text-align: left;\">\n",
       "      <th>epoch</th>\n",
       "      <th>train_loss</th>\n",
       "      <th>valid_loss</th>\n",
       "      <th>accuracy</th>\n",
       "      <th>time</th>\n",
       "    </tr>\n",
       "  </thead>\n",
       "  <tbody>\n",
       "    <tr>\n",
       "      <td>0</td>\n",
       "      <td>0.000000</td>\n",
       "      <td>0.000000</td>\n",
       "      <td>1.000000</td>\n",
       "      <td>00:06</td>\n",
       "    </tr>\n",
       "  </tbody>\n",
       "</table>"
      ],
      "text/plain": [
       "<IPython.core.display.HTML object>"
      ]
     },
     "metadata": {},
     "output_type": "display_data"
    },
    {
     "name": "stdout",
     "output_type": "stream",
     "text": [
      "0:00:06.296587\n"
     ]
    }
   ],
   "source": [
    "from tsai.models.TCN import *\n",
    "from fastai.metrics import accuracy\n",
    "import numpy as np\n",
    "from sklearn.preprocessing import LabelEncoder\n",
    "import torch\n",
    "X=np.array(train).reshape(3471,1,4096)\n",
    "get_splits(target,n_splits=2, valid_size=0.2)\n",
    "y=np.array(target)\n",
    "le = LabelEncoder()\n",
    "y = le.fit_transform(y)\n",
    "bs=16\n",
    "tfms  = [None, [TSCategorize()]]\n",
    "dsets = TSDatasets(X, y, tfms=tfms, splits=splits)\n",
    "dls   = TSDataLoaders.from_dsets(dsets.train, dsets.valid, bs=bs, num_workers=0, shuffle=False)\n",
    "model = TCN(dls.vars, dls.c)\n",
    "t = timer.start(False)\n",
    "learn = Learner(dls, model,metrics=accuracy)\n",
    "learn.fit_one_cycle(1, 3e-3)\n",
    "t = timer.stop()\n",
    "print(t)"
   ]
  },
  {
   "cell_type": "markdown",
   "id": "95edf4e0",
   "metadata": {},
   "source": [
    "FCN网络"
   ]
  },
  {
   "cell_type": "code",
   "execution_count": 72,
   "id": "a5a21b25",
   "metadata": {},
   "outputs": [
    {
     "data": {
      "text/html": [
       "\n",
       "<style>\n",
       "    /* Turns off some styling */\n",
       "    progress {\n",
       "        /* gets rid of default border in Firefox and Opera. */\n",
       "        border: none;\n",
       "        /* Needs to be in here for Safari polyfill so background images work as expected. */\n",
       "        background-size: auto;\n",
       "    }\n",
       "    .progress-bar-interrupted, .progress-bar-interrupted::-webkit-progress-bar {\n",
       "        background: #F44336;\n",
       "    }\n",
       "</style>\n"
      ],
      "text/plain": [
       "<IPython.core.display.HTML object>"
      ]
     },
     "metadata": {},
     "output_type": "display_data"
    },
    {
     "data": {
      "text/html": [
       "<table border=\"1\" class=\"dataframe\">\n",
       "  <thead>\n",
       "    <tr style=\"text-align: left;\">\n",
       "      <th>epoch</th>\n",
       "      <th>train_loss</th>\n",
       "      <th>valid_loss</th>\n",
       "      <th>accuracy</th>\n",
       "      <th>time</th>\n",
       "    </tr>\n",
       "  </thead>\n",
       "  <tbody>\n",
       "    <tr>\n",
       "      <td>0</td>\n",
       "      <td>0.000000</td>\n",
       "      <td>0.000000</td>\n",
       "      <td>1.000000</td>\n",
       "      <td>00:06</td>\n",
       "    </tr>\n",
       "  </tbody>\n",
       "</table>"
      ],
      "text/plain": [
       "<IPython.core.display.HTML object>"
      ]
     },
     "metadata": {},
     "output_type": "display_data"
    },
    {
     "name": "stdout",
     "output_type": "stream",
     "text": [
      "0:00:06.996599\n"
     ]
    }
   ],
   "source": [
    "from tsai.all import *\n",
    "model2 = FCN(dls.vars, dls.c)\n",
    "t = timer.start(False)\n",
    "learn = Learner(dls, model2,metrics=accuracy)\n",
    "learn.fit_one_cycle(1, 3e-3)\n",
    "t = timer.stop()\n",
    "print(t)"
   ]
  },
  {
   "cell_type": "code",
   "execution_count": null,
   "id": "41ef70b5",
   "metadata": {},
   "outputs": [],
   "source": []
  }
 ],
 "metadata": {
  "kernelspec": {
   "display_name": "Python 3",
   "language": "python",
   "name": "python3"
  },
  "language_info": {
   "codemirror_mode": {
    "name": "ipython",
    "version": 3
   },
   "file_extension": ".py",
   "mimetype": "text/x-python",
   "name": "python",
   "nbconvert_exporter": "python",
   "pygments_lexer": "ipython3",
   "version": "3.8.8"
  }
 },
 "nbformat": 4,
 "nbformat_minor": 5
}
