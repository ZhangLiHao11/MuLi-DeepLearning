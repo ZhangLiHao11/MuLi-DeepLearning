{
 "cells": [
  {
   "cell_type": "markdown",
   "id": "009446ee",
   "metadata": {},
   "source": [
    "通过使用深度学习框架来简洁地实现 线性回归模型 生成数据集"
   ]
  },
  {
   "cell_type": "code",
   "execution_count": 18,
   "id": "d5034e5e",
   "metadata": {},
   "outputs": [],
   "source": [
    "import numpy as np\n",
    "import torch\n",
    "from torch.utils import data\n",
    "from d2l import torch as d2l\n",
    "\n",
    "true_w = torch.tensor([2, -3.4])\n",
    "true_b = 4.2\n",
    "features, labels = d2l.synthetic_data(true_w, true_b, 1000)#synthetic_data是人工数据合成的函数"
   ]
  },
  {
   "cell_type": "markdown",
   "id": "069a0890",
   "metadata": {},
   "source": [
    "调用框架中现有的API来读取数据"
   ]
  },
  {
   "cell_type": "code",
   "execution_count": 19,
   "id": "3258970d",
   "metadata": {},
   "outputs": [
    {
     "data": {
      "text/plain": [
       "[tensor([[ 0.1102, -0.9346],\n",
       "         [-0.7827, -0.2422],\n",
       "         [ 0.5356,  1.4493],\n",
       "         [-2.5595,  0.9294],\n",
       "         [-0.0416, -0.2469],\n",
       "         [ 0.0487, -1.1305],\n",
       "         [-0.4907, -0.0422],\n",
       "         [-0.8908, -1.4746],\n",
       "         [-2.0097, -0.7458],\n",
       "         [ 2.5660, -0.5310]]),\n",
       " tensor([[ 7.6025],\n",
       "         [ 3.4612],\n",
       "         [ 0.3331],\n",
       "         [-4.0802],\n",
       "         [ 4.9618],\n",
       "         [ 8.1395],\n",
       "         [ 3.3589],\n",
       "         [ 7.4315],\n",
       "         [ 2.7019],\n",
       "         [11.1398]])]"
      ]
     },
     "execution_count": 19,
     "metadata": {},
     "output_type": "execute_result"
    }
   ],
   "source": [
    "def load_array(data_arrays, batch_size, is_train=True):\n",
    "    \"\"\"构造一个pytorch数据迭代器\"\"\"\n",
    "    dataset = data.TensorDataset(*data_arrays)#tensordataset:把输入的两类数据进行一一对应\n",
    "    return data.DataLoader(dataset, batch_size, shuffle=is_train)#dataloader:重新排序后随机挑选出batch_size\n",
    "\n",
    "batch_size = 10\n",
    "data_iter = load_array((features, labels),batch_size)\n",
    "\n",
    "next(iter(data_iter))"
   ]
  },
  {
   "cell_type": "markdown",
   "id": "0c52914b",
   "metadata": {},
   "source": [
    "使用框架的预定义好的层"
   ]
  },
  {
   "cell_type": "code",
   "execution_count": 20,
   "id": "53c795e9",
   "metadata": {},
   "outputs": [],
   "source": [
    "from torch import nn\n",
    "\n",
    "net = nn.Sequential(nn.Linear(2, 1))#使用linear层，指定输入维度是2，输出维度是1"
   ]
  },
  {
   "cell_type": "markdown",
   "id": "af16f270",
   "metadata": {},
   "source": [
    "初始化模型参数"
   ]
  },
  {
   "cell_type": "code",
   "execution_count": 28,
   "id": "ebd109ad",
   "metadata": {},
   "outputs": [
    {
     "data": {
      "text/plain": [
       "tensor([0.])"
      ]
     },
     "execution_count": 28,
     "metadata": {},
     "output_type": "execute_result"
    }
   ],
   "source": [
    "net[0].weight.data.normal_(0, 0.01)#weight访问到w,normal_使用正态分布换掉data\n",
    "net[0].bias.data.fill_(0)#bias访问到b，fill_(0)初始化为0"
   ]
  },
  {
   "cell_type": "markdown",
   "id": "d53a054b",
   "metadata": {},
   "source": [
    "计算均方误差使用的是MSELoss类，也称为平方 L2 范数"
   ]
  },
  {
   "cell_type": "code",
   "execution_count": 22,
   "id": "a0bdb7bb",
   "metadata": {},
   "outputs": [],
   "source": [
    "loss = nn.MSELoss()"
   ]
  },
  {
   "cell_type": "markdown",
   "id": "cac7bea9",
   "metadata": {},
   "source": [
    "实例化 SGD 实例"
   ]
  },
  {
   "cell_type": "code",
   "execution_count": 23,
   "id": "e43c8193",
   "metadata": {},
   "outputs": [],
   "source": [
    "trainer = torch.optim.SGD(net.parameters(), lr=0.03)#存入模型中w,b等参数，学习率"
   ]
  },
  {
   "cell_type": "markdown",
   "id": "908c9ed9",
   "metadata": {},
   "source": [
    "训练过程代码与我们从零开始实现时所做的非常相似"
   ]
  },
  {
   "cell_type": "code",
   "execution_count": 29,
   "id": "33714cc8",
   "metadata": {},
   "outputs": [
    {
     "name": "stdout",
     "output_type": "stream",
     "text": [
      "epoch1, loss0.000184\n",
      "epoch2, loss0.000097\n",
      "epoch3, loss0.000097\n"
     ]
    }
   ],
   "source": [
    "num_epochs = 3\n",
    "for epoch in range(num_epochs):\n",
    "    for X, y in data_iter:\n",
    "        l = loss(net(X), y)\n",
    "        trainer.zero_grad()#先将梯度清0\n",
    "        l.backward()#已经自动sum过了，直接求梯度\n",
    "        trainer.step()#调用这个函数进行模型的更新\n",
    "    l = loss(net(features), labels)\n",
    "    print(f'epoch{epoch + 1}, loss{l:f}')"
   ]
  },
  {
   "cell_type": "markdown",
   "id": "38418ce7",
   "metadata": {},
   "source": [
    "比较生成数据集的真实参数和通过有限数据训练获得的模型参数"
   ]
  },
  {
   "cell_type": "code",
   "execution_count": 30,
   "id": "b31d2819",
   "metadata": {},
   "outputs": [
    {
     "name": "stdout",
     "output_type": "stream",
     "text": [
      "w的估计误差： tensor([-0.0013,  0.0001])\n",
      "b的估计误差： tensor([0.0002])\n"
     ]
    }
   ],
   "source": [
    "w = net[0].weight.data\n",
    "print('w的估计误差：', true_w - w.reshape(true_w.shape))\n",
    "b = net[0].bias.data\n",
    "print('b的估计误差：', true_b - b)"
   ]
  },
  {
   "cell_type": "code",
   "execution_count": null,
   "id": "e1f0ccd4",
   "metadata": {},
   "outputs": [],
   "source": []
  }
 ],
 "metadata": {
  "kernelspec": {
   "display_name": "Python 3",
   "language": "python",
   "name": "python3"
  },
  "language_info": {
   "codemirror_mode": {
    "name": "ipython",
    "version": 3
   },
   "file_extension": ".py",
   "mimetype": "text/x-python",
   "name": "python",
   "nbconvert_exporter": "python",
   "pygments_lexer": "ipython3",
   "version": "3.8.8"
  }
 },
 "nbformat": 4,
 "nbformat_minor": 5
}
